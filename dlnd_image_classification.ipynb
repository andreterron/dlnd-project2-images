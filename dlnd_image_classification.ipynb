{
 "cells": [
  {
   "cell_type": "markdown",
   "metadata": {
    "collapsed": true
   },
   "source": [
    "# Image Classification\n",
    "In this project, you'll classify images from the [CIFAR-10 dataset](https://www.cs.toronto.edu/~kriz/cifar.html).  The dataset consists of airplanes, dogs, cats, and other objects. You'll preprocess the images, then train a convolutional neural network on all the samples. The images need to be normalized and the labels need to be one-hot encoded.  You'll get to apply what you learned and build a convolutional, max pooling, dropout, and fully connected layers.  At the end, you'll get to see your neural network's predictions on the sample images.\n",
    "## Get the Data\n",
    "Run the following cell to download the [CIFAR-10 dataset for python](https://www.cs.toronto.edu/~kriz/cifar-10-python.tar.gz)."
   ]
  },
  {
   "cell_type": "code",
   "execution_count": null,
   "metadata": {
    "collapsed": true
   },
   "outputs": [],
   "source": [
    "\"\"\"\n",
    "DON'T MODIFY ANYTHING IN THIS CELL THAT IS BELOW THIS LINE\n",
    "\"\"\"\n",
    "from urllib.request import urlretrieve\n",
    "from os.path import isfile, isdir\n",
    "from tqdm import tqdm\n",
    "import problem_unittests as tests\n",
    "import tarfile\n",
    "\n",
    "cifar10_dataset_folder_path = 'cifar-10-batches-py'\n",
    "\n",
    "# Use Floyd's cifar-10 dataset if present\n",
    "floyd_cifar10_location = '/cifar/cifar-10-python.tar.gz'\n",
    "if isfile(floyd_cifar10_location):\n",
    "    tar_gz_path = floyd_cifar10_location\n",
    "else:\n",
    "    tar_gz_path = 'cifar-10-python.tar.gz'\n",
    "\n",
    "class DLProgress(tqdm):\n",
    "    last_block = 0\n",
    "\n",
    "    def hook(self, block_num=1, block_size=1, total_size=None):\n",
    "        self.total = total_size\n",
    "        self.update((block_num - self.last_block) * block_size)\n",
    "        self.last_block = block_num\n",
    "\n",
    "if not isfile(tar_gz_path):\n",
    "    with DLProgress(unit='B', unit_scale=True, miniters=1, desc='CIFAR-10 Dataset') as pbar:\n",
    "        urlretrieve(\n",
    "            'https://www.cs.toronto.edu/~kriz/cifar-10-python.tar.gz',\n",
    "            tar_gz_path,\n",
    "            pbar.hook)\n",
    "\n",
    "if not isdir(cifar10_dataset_folder_path):\n",
    "    with tarfile.open(tar_gz_path) as tar:\n",
    "        tar.extractall()\n",
    "        tar.close()\n",
    "\n",
    "\n",
    "tests.test_folder_path(cifar10_dataset_folder_path)"
   ]
  },
  {
   "cell_type": "markdown",
   "metadata": {},
   "source": [
    "## Explore the Data\n",
    "The dataset is broken into batches to prevent your machine from running out of memory.  The CIFAR-10 dataset consists of 5 batches, named `data_batch_1`, `data_batch_2`, etc.. Each batch contains the labels and images that are one of the following:\n",
    "* airplane\n",
    "* automobile\n",
    "* bird\n",
    "* cat\n",
    "* deer\n",
    "* dog\n",
    "* frog\n",
    "* horse\n",
    "* ship\n",
    "* truck\n",
    "\n",
    "Understanding a dataset is part of making predictions on the data.  Play around with the code cell below by changing the `batch_id` and `sample_id`. The `batch_id` is the id for a batch (1-5). The `sample_id` is the id for a image and label pair in the batch.\n",
    "\n",
    "Ask yourself \"What are all possible labels?\", \"What is the range of values for the image data?\", \"Are the labels in order or random?\".  Answers to questions like these will help you preprocess the data and end up with better predictions."
   ]
  },
  {
   "cell_type": "code",
   "execution_count": null,
   "metadata": {
    "collapsed": true
   },
   "outputs": [],
   "source": [
    "%matplotlib inline\n",
    "%config InlineBackend.figure_format = 'retina'\n",
    "\n",
    "import helper\n",
    "import numpy as np\n",
    "\n",
    "# Explore the dataset\n",
    "batch_id = 1\n",
    "sample_id = 0\n",
    "helper.display_stats(cifar10_dataset_folder_path, batch_id, sample_id)"
   ]
  },
  {
   "cell_type": "markdown",
   "metadata": {},
   "source": [
    "## Implement Preprocess Functions\n",
    "### Normalize\n",
    "In the cell below, implement the `normalize` function to take in image data, `x`, and return it as a normalized Numpy array. The values should be in the range of 0 to 1, inclusive.  The return object should be the same shape as `x`."
   ]
  },
  {
   "cell_type": "code",
   "execution_count": 150,
   "metadata": {},
   "outputs": [
    {
     "name": "stdout",
     "output_type": "stream",
     "text": [
      "Tests Passed\n"
     ]
    }
   ],
   "source": [
    "import numpy as np\n",
    "\n",
    "def normalize(x):\n",
    "    \"\"\"\n",
    "    Normalize a list of sample image data in the range of 0 to 1\n",
    "    : x: List of image data.  The image shape is (32, 32, 3)\n",
    "    : return: Numpy array of normalize data\n",
    "    \"\"\"\n",
    "    # TODO: Implement Function\n",
    "    return x / 255\n",
    "\n",
    "\n",
    "\"\"\"\n",
    "DON'T MODIFY ANYTHING IN THIS CELL THAT IS BELOW THIS LINE\n",
    "\"\"\"\n",
    "tests.test_normalize(normalize)"
   ]
  },
  {
   "cell_type": "markdown",
   "metadata": {},
   "source": [
    "### One-hot encode\n",
    "Just like the previous code cell, you'll be implementing a function for preprocessing.  This time, you'll implement the `one_hot_encode` function. The input, `x`, are a list of labels.  Implement the function to return the list of labels as One-Hot encoded Numpy array.  The possible values for labels are 0 to 9. The one-hot encoding function should return the same encoding for each value between each call to `one_hot_encode`.  Make sure to save the map of encodings outside the function.\n",
    "\n",
    "Hint: Don't reinvent the wheel."
   ]
  },
  {
   "cell_type": "code",
   "execution_count": null,
   "metadata": {
    "collapsed": true
   },
   "outputs": [],
   "source": [
    "def one_hot_encode(x):\n",
    "    \"\"\"\n",
    "    One hot encode a list of sample labels. Return a one-hot encoded vector for each label.\n",
    "    : x: List of sample Labels\n",
    "    : return: Numpy array of one-hot encoded labels\n",
    "    \"\"\"\n",
    "    a = np.zeros((len(x), 10))\n",
    "    a[np.arange(len(x)),x] = 1\n",
    "    # TODO: Implement Function\n",
    "    return a\n",
    "\n",
    "\n",
    "\"\"\"\n",
    "DON'T MODIFY ANYTHING IN THIS CELL THAT IS BELOW THIS LINE\n",
    "\"\"\"\n",
    "tests.test_one_hot_encode(one_hot_encode)"
   ]
  },
  {
   "cell_type": "markdown",
   "metadata": {},
   "source": [
    "### Randomize Data\n",
    "As you saw from exploring the data above, the order of the samples are randomized.  It doesn't hurt to randomize it again, but you don't need to for this dataset."
   ]
  },
  {
   "cell_type": "markdown",
   "metadata": {},
   "source": [
    "## Preprocess all the data and save it\n",
    "Running the code cell below will preprocess all the CIFAR-10 data and save it to file. The code below also uses 10% of the training data for validation."
   ]
  },
  {
   "cell_type": "code",
   "execution_count": null,
   "metadata": {
    "collapsed": true
   },
   "outputs": [],
   "source": [
    "\"\"\"\n",
    "DON'T MODIFY ANYTHING IN THIS CELL\n",
    "\"\"\"\n",
    "# Preprocess Training, Validation, and Testing Data\n",
    "helper.preprocess_and_save_data(cifar10_dataset_folder_path, normalize, one_hot_encode)"
   ]
  },
  {
   "cell_type": "markdown",
   "metadata": {},
   "source": [
    "# Check Point\n",
    "This is your first checkpoint.  If you ever decide to come back to this notebook or have to restart the notebook, you can start from here.  The preprocessed data has been saved to disk."
   ]
  },
  {
   "cell_type": "code",
   "execution_count": 2,
   "metadata": {
    "collapsed": true
   },
   "outputs": [],
   "source": [
    "\"\"\"\n",
    "DON'T MODIFY ANYTHING IN THIS CELL\n",
    "\"\"\"\n",
    "import pickle\n",
    "import problem_unittests as tests\n",
    "import helper\n",
    "\n",
    "# Load the Preprocessed Validation data\n",
    "valid_features, valid_labels = pickle.load(open('preprocess_validation.p', mode='rb'))"
   ]
  },
  {
   "cell_type": "markdown",
   "metadata": {},
   "source": [
    "## Build the network\n",
    "For the neural network, you'll build each layer into a function.  Most of the code you've seen has been outside of functions. To test your code more thoroughly, we require that you put each layer in a function.  This allows us to give you better feedback and test for simple mistakes using our unittests before you submit your project.\n",
    "\n",
    ">**Note:** If you're finding it hard to dedicate enough time for this course each week, we've provided a small shortcut to this part of the project. In the next couple of problems, you'll have the option to use classes from the [TensorFlow Layers](https://www.tensorflow.org/api_docs/python/tf/layers) or [TensorFlow Layers (contrib)](https://www.tensorflow.org/api_guides/python/contrib.layers) packages to build each layer, except the layers you build in the \"Convolutional and Max Pooling Layer\" section.  TF Layers is similar to Keras's and TFLearn's abstraction to layers, so it's easy to pickup.\n",
    "\n",
    ">However, if you would like to get the most out of this course, try to solve all the problems _without_ using anything from the TF Layers packages. You **can** still use classes from other packages that happen to have the same name as ones you find in TF Layers! For example, instead of using the TF Layers version of the `conv2d` class, [tf.layers.conv2d](https://www.tensorflow.org/api_docs/python/tf/layers/conv2d), you would want to use the TF Neural Network version of `conv2d`, [tf.nn.conv2d](https://www.tensorflow.org/api_docs/python/tf/nn/conv2d). \n",
    "\n",
    "Let's begin!\n",
    "\n",
    "### Input\n",
    "The neural network needs to read the image data, one-hot encoded labels, and dropout keep probability. Implement the following functions\n",
    "* Implement `neural_net_image_input`\n",
    " * Return a [TF Placeholder](https://www.tensorflow.org/api_docs/python/tf/placeholder)\n",
    " * Set the shape using `image_shape` with batch size set to `None`.\n",
    " * Name the TensorFlow placeholder \"x\" using the TensorFlow `name` parameter in the [TF Placeholder](https://www.tensorflow.org/api_docs/python/tf/placeholder).\n",
    "* Implement `neural_net_label_input`\n",
    " * Return a [TF Placeholder](https://www.tensorflow.org/api_docs/python/tf/placeholder)\n",
    " * Set the shape using `n_classes` with batch size set to `None`.\n",
    " * Name the TensorFlow placeholder \"y\" using the TensorFlow `name` parameter in the [TF Placeholder](https://www.tensorflow.org/api_docs/python/tf/placeholder).\n",
    "* Implement `neural_net_keep_prob_input`\n",
    " * Return a [TF Placeholder](https://www.tensorflow.org/api_docs/python/tf/placeholder) for dropout keep probability.\n",
    " * Name the TensorFlow placeholder \"keep_prob\" using the TensorFlow `name` parameter in the [TF Placeholder](https://www.tensorflow.org/api_docs/python/tf/placeholder).\n",
    "\n",
    "These names will be used at the end of the project to load your saved model.\n",
    "\n",
    "Note: `None` for shapes in TensorFlow allow for a dynamic size."
   ]
  },
  {
   "cell_type": "code",
   "execution_count": 3,
   "metadata": {},
   "outputs": [
    {
     "name": "stdout",
     "output_type": "stream",
     "text": [
      "Image Input Tests Passed.\n",
      "Label Input Tests Passed.\n",
      "Keep Prob Tests Passed.\n"
     ]
    }
   ],
   "source": [
    "import tensorflow as tf\n",
    "\n",
    "def neural_net_image_input(image_shape):\n",
    "    \"\"\"\n",
    "    Return a Tensor for a batch of image input\n",
    "    : image_shape: Shape of the images\n",
    "    : return: Tensor for image input.\n",
    "    \"\"\"\n",
    "    # TODO: Implement Function\n",
    "    return tf.placeholder(tf.float32, shape=[None, image_shape[0], image_shape[1], image_shape[2]], name=\"x\")\n",
    "#     return None\n",
    "\n",
    "\n",
    "def neural_net_label_input(n_classes):\n",
    "    \"\"\"\n",
    "    Return a Tensor for a batch of label input\n",
    "    : n_classes: Number of classes\n",
    "    : return: Tensor for label input.\n",
    "    \"\"\"\n",
    "    # TODO: Implement Function\n",
    "    return tf.placeholder(tf.float32, shape=(None,n_classes), name=\"y\")\n",
    "#     return None\n",
    "\n",
    "\n",
    "def neural_net_keep_prob_input():\n",
    "    \"\"\"\n",
    "    Return a Tensor for keep probability\n",
    "    : return: Tensor for keep probability.\n",
    "    \"\"\"\n",
    "    # TODO: Implement Function\n",
    "    return tf.placeholder(tf.float32, name=\"keep_prob\")\n",
    "#     return None\n",
    "\n",
    "\n",
    "\"\"\"\n",
    "DON'T MODIFY ANYTHING IN THIS CELL THAT IS BELOW THIS LINE\n",
    "\"\"\"\n",
    "tf.reset_default_graph()\n",
    "tests.test_nn_image_inputs(neural_net_image_input)\n",
    "tests.test_nn_label_inputs(neural_net_label_input)\n",
    "tests.test_nn_keep_prob_inputs(neural_net_keep_prob_input)"
   ]
  },
  {
   "cell_type": "markdown",
   "metadata": {},
   "source": [
    "### Convolution and Max Pooling Layer\n",
    "Convolution layers have a lot of success with images. For this code cell, you should implement the function `conv2d_maxpool` to apply convolution then max pooling:\n",
    "* Create the weight and bias using `conv_ksize`, `conv_num_outputs` and the shape of `x_tensor`.\n",
    "* Apply a convolution to `x_tensor` using weight and `conv_strides`.\n",
    " * We recommend you use same padding, but you're welcome to use any padding.\n",
    "* Add bias\n",
    "* Add a nonlinear activation to the convolution.\n",
    "* Apply Max Pooling using `pool_ksize` and `pool_strides`.\n",
    " * We recommend you use same padding, but you're welcome to use any padding.\n",
    "\n",
    "**Note:** You **can't** use [TensorFlow Layers](https://www.tensorflow.org/api_docs/python/tf/layers) or [TensorFlow Layers (contrib)](https://www.tensorflow.org/api_guides/python/contrib.layers) for **this** layer, but you can still use TensorFlow's [Neural Network](https://www.tensorflow.org/api_docs/python/tf/nn) package. You may still use the shortcut option for all the **other** layers."
   ]
  },
  {
   "cell_type": "code",
   "execution_count": 14,
   "metadata": {},
   "outputs": [
    {
     "name": "stdout",
     "output_type": "stream",
     "text": [
      "Tests Passed\n"
     ]
    }
   ],
   "source": [
    "def conv2d_maxpool(x_tensor, conv_num_outputs, conv_ksize, conv_strides, pool_ksize, pool_strides):\n",
    "    \"\"\"\n",
    "    Apply convolution then max pooling to x_tensor\n",
    "    :param x_tensor: TensorFlow Tensor\n",
    "    :param conv_num_outputs: Number of outputs for the convolutional layer\n",
    "    :param conv_ksize: kernal size 2-D Tuple for the convolutional layer\n",
    "    :param conv_strides: Stride 2-D Tuple for convolution\n",
    "    :param pool_ksize: kernal size 2-D Tuple for pool\n",
    "    :param pool_strides: Stride 2-D Tuple for pool\n",
    "    : return: A tensor that represents convolution and max pooling of x_tensor\n",
    "    \"\"\"\n",
    "    # TODO: Implement Function\n",
    "    weight = tf.Variable(tf.truncated_normal(\n",
    "        (conv_ksize[0], conv_ksize[1], int(x_tensor.get_shape()[3]), conv_num_outputs), stddev=0.1))\n",
    "    bias = tf.Variable(tf.zeros(conv_num_outputs))\n",
    "    conv = tf.nn.relu(tf.nn.bias_add(tf.nn.conv2d(\n",
    "        x_tensor,\n",
    "        weight,\n",
    "        strides=[1, conv_strides[0], conv_strides[1], 1],\n",
    "        padding='SAME'), bias))\n",
    "\n",
    "    if (pool_ksize[0] != 1 or pool_ksize[1] != 1):\n",
    "        return tf.nn.max_pool(\n",
    "            conv,\n",
    "            ksize=[1, pool_ksize[0], pool_ksize[1], 1],\n",
    "            strides=[1, pool_strides[0], pool_strides[1], 1],\n",
    "            padding='SAME')\n",
    "    return conv\n",
    "\n",
    "\n",
    "\"\"\"\n",
    "DON'T MODIFY ANYTHING IN THIS CELL THAT IS BELOW THIS LINE\n",
    "\"\"\"\n",
    "tests.test_con_pool(conv2d_maxpool)"
   ]
  },
  {
   "cell_type": "markdown",
   "metadata": {},
   "source": [
    "### Flatten Layer\n",
    "Implement the `flatten` function to change the dimension of `x_tensor` from a 4-D tensor to a 2-D tensor.  The output should be the shape (*Batch Size*, *Flattened Image Size*). Shortcut option: you can use classes from the [TensorFlow Layers](https://www.tensorflow.org/api_docs/python/tf/layers) or [TensorFlow Layers (contrib)](https://www.tensorflow.org/api_guides/python/contrib.layers) packages for this layer. For more of a challenge, only use other TensorFlow packages."
   ]
  },
  {
   "cell_type": "code",
   "execution_count": 5,
   "metadata": {},
   "outputs": [
    {
     "name": "stdout",
     "output_type": "stream",
     "text": [
      "Tests Passed\n"
     ]
    }
   ],
   "source": [
    "def flatten(x_tensor):\n",
    "    \"\"\"\n",
    "    Flatten x_tensor to (Batch Size, Flattened Image Size)\n",
    "    : x_tensor: A tensor of size (Batch Size, ...), where ... are the image dimensions.\n",
    "    : return: A tensor of size (Batch Size, Flattened Image Size).\n",
    "    \"\"\"\n",
    "    return tf.contrib.layers.flatten(x_tensor)\n",
    "\n",
    "\n",
    "\"\"\"\n",
    "DON'T MODIFY ANYTHING IN THIS CELL THAT IS BELOW THIS LINE\n",
    "\"\"\"\n",
    "tests.test_flatten(flatten)"
   ]
  },
  {
   "cell_type": "markdown",
   "metadata": {},
   "source": [
    "### Fully-Connected Layer\n",
    "Implement the `fully_conn` function to apply a fully connected layer to `x_tensor` with the shape (*Batch Size*, *num_outputs*). Shortcut option: you can use classes from the [TensorFlow Layers](https://www.tensorflow.org/api_docs/python/tf/layers) or [TensorFlow Layers (contrib)](https://www.tensorflow.org/api_guides/python/contrib.layers) packages for this layer. For more of a challenge, only use other TensorFlow packages."
   ]
  },
  {
   "cell_type": "code",
   "execution_count": 15,
   "metadata": {},
   "outputs": [
    {
     "name": "stdout",
     "output_type": "stream",
     "text": [
      "Tests Passed\n"
     ]
    }
   ],
   "source": [
    "def fully_conn(x_tensor, num_outputs):\n",
    "    \"\"\"\n",
    "    Apply a fully connected layer to x_tensor using weight and bias\n",
    "    : x_tensor: A 2-D tensor where the first dimension is batch size.\n",
    "    : num_outputs: The number of output that the new tensor should be.\n",
    "    : return: A 2-D tensor where the second dimension is num_outputs.\n",
    "    \"\"\"\n",
    "    # TODO: Implement Function\n",
    "#     shape = x_tensor.get_shape()\n",
    "#     print(shape)\n",
    "    weights = tf.Variable(tf.truncated_normal(\n",
    "        (int(x_tensor.get_shape()[1]), num_outputs), stddev=0.1))\n",
    "    biases = tf.Variable(tf.zeros(num_outputs))\n",
    "    return tf.add(tf.matmul(x_tensor, weights), biases)\n",
    "#     return tf.contrib.layers.fully_connected(x_tensor, num_outputs)\n",
    "\n",
    "\n",
    "\"\"\"\n",
    "DON'T MODIFY ANYTHING IN THIS CELL THAT IS BELOW THIS LINE\n",
    "\"\"\"\n",
    "tests.test_fully_conn(fully_conn)"
   ]
  },
  {
   "cell_type": "markdown",
   "metadata": {},
   "source": [
    "### Output Layer\n",
    "Implement the `output` function to apply a fully connected layer to `x_tensor` with the shape (*Batch Size*, *num_outputs*). Shortcut option: you can use classes from the [TensorFlow Layers](https://www.tensorflow.org/api_docs/python/tf/layers) or [TensorFlow Layers (contrib)](https://www.tensorflow.org/api_guides/python/contrib.layers) packages for this layer. For more of a challenge, only use other TensorFlow packages.\n",
    "\n",
    "**Note:** Activation, softmax, or cross entropy should **not** be applied to this."
   ]
  },
  {
   "cell_type": "code",
   "execution_count": 7,
   "metadata": {},
   "outputs": [
    {
     "name": "stdout",
     "output_type": "stream",
     "text": [
      "Tests Passed\n"
     ]
    }
   ],
   "source": [
    "def output(x_tensor, num_outputs):\n",
    "    \"\"\"\n",
    "    Apply a output layer to x_tensor using weight and bias\n",
    "    : x_tensor: A 2-D tensor where the first dimension is batch size.\n",
    "    : num_outputs: The number of output that the new tensor should be.\n",
    "    : return: A 2-D tensor where the second dimension is num_outputs.\n",
    "    \"\"\"\n",
    "    # TODO: Implement Function\n",
    "    return fully_conn(x_tensor, num_outputs)\n",
    "#     return tf.contrib.layers.fully_connected(x_tensor, num_outputs)\n",
    "\n",
    "\n",
    "\"\"\"\n",
    "DON'T MODIFY ANYTHING IN THIS CELL THAT IS BELOW THIS LINE\n",
    "\"\"\"\n",
    "tests.test_output(output)"
   ]
  },
  {
   "cell_type": "markdown",
   "metadata": {},
   "source": [
    "### Create Convolutional Model\n",
    "Implement the function `conv_net` to create a convolutional neural network model. The function takes in a batch of images, `x`, and outputs logits.  Use the layers you created above to create this model:\n",
    "\n",
    "* Apply 1, 2, or 3 Convolution and Max Pool layers\n",
    "* Apply a Flatten Layer\n",
    "* Apply 1, 2, or 3 Fully Connected Layers\n",
    "* Apply an Output Layer\n",
    "* Return the output\n",
    "* Apply [TensorFlow's Dropout](https://www.tensorflow.org/api_docs/python/tf/nn/dropout) to one or more layers in the model using `keep_prob`. "
   ]
  },
  {
   "cell_type": "code",
   "execution_count": 20,
   "metadata": {},
   "outputs": [
    {
     "name": "stdout",
     "output_type": "stream",
     "text": [
      "Neural Network Built!\n"
     ]
    }
   ],
   "source": [
    "def conv_net(x, keep_prob):\n",
    "    \"\"\"\n",
    "    Create a convolutional neural network model\n",
    "    : x: Placeholder tensor that holds image data.\n",
    "    : keep_prob: Placeholder tensor that hold dropout keep probability.\n",
    "    : return: Tensor that represents logits\n",
    "    \"\"\"\n",
    "    # TODO: Apply 1, 2, or 3 Convolution and Max Pool layers\n",
    "    #    Play around with different number of outputs, kernel size and stride\n",
    "    # Function Definition from Above:\n",
    "    #    conv2d_maxpool(x_tensor, conv_num_outputs, conv_ksize, conv_strides, pool_ksize, pool_strides)\n",
    "    c1 = conv2d_maxpool(x, 32, (3,3), (1,1), (2,2), (2,2))\n",
    "    c2 = conv2d_maxpool(c1, 54, (3,3), (1,1), (2,2), (2,2))\n",
    "    c3 = conv2d_maxpool(c2, 128, (3,3), (1,1), (2,2), (2,2))\n",
    "    \n",
    "\n",
    "    # TODO: Apply a Flatten Layer\n",
    "    # Function Definition from Above:\n",
    "    f = flatten(c3)\n",
    "    \n",
    "\n",
    "    # TODO: Apply 1, 2, or 3 Fully Connected Layers\n",
    "    #    Play around with different number of outputs\n",
    "    # Function Definition from Above:\n",
    "    #   fully_conn(x_tensor, num_outputs)\n",
    "    fc1 = fully_conn(f, 256)\n",
    "    fc2 = fully_conn(fc1, 128)\n",
    "#     fc3 = fully_conn(fc2, 32)\n",
    "    \n",
    "    \n",
    "    # TODO: Apply an Output Layer\n",
    "    #    Set this to the number of classes\n",
    "    # Function Definition from Above:\n",
    "    o = output(fc2, 10)\n",
    "    \n",
    "    \n",
    "    # TODO: return output\n",
    "    return o\n",
    "\n",
    "\n",
    "\"\"\"\n",
    "DON'T MODIFY ANYTHING IN THIS CELL THAT IS BELOW THIS LINE\n",
    "\"\"\"\n",
    "\n",
    "##############################\n",
    "## Build the Neural Network ##\n",
    "##############################\n",
    "\n",
    "# Remove previous weights, bias, inputs, etc..\n",
    "tf.reset_default_graph()\n",
    "\n",
    "# Inputs\n",
    "x = neural_net_image_input((32, 32, 3))\n",
    "y = neural_net_label_input(10)\n",
    "keep_prob = neural_net_keep_prob_input()\n",
    "\n",
    "# Model\n",
    "logits = conv_net(x, keep_prob)\n",
    "\n",
    "# Name logits Tensor, so that is can be loaded from disk after training\n",
    "logits = tf.identity(logits, name='logits')\n",
    "\n",
    "# Loss and Optimizer\n",
    "cost = tf.reduce_mean(tf.nn.softmax_cross_entropy_with_logits(logits=logits, labels=y))\n",
    "optimizer = tf.train.AdamOptimizer().minimize(cost)\n",
    "\n",
    "# Accuracy\n",
    "correct_pred = tf.equal(tf.argmax(logits, 1), tf.argmax(y, 1))\n",
    "accuracy = tf.reduce_mean(tf.cast(correct_pred, tf.float32), name='accuracy')\n",
    "\n",
    "tests.test_conv_net(conv_net)"
   ]
  },
  {
   "cell_type": "markdown",
   "metadata": {},
   "source": [
    "## Train the Neural Network\n",
    "### Single Optimization\n",
    "Implement the function `train_neural_network` to do a single optimization.  The optimization should use `optimizer` to optimize in `session` with a `feed_dict` of the following:\n",
    "* `x` for image input\n",
    "* `y` for labels\n",
    "* `keep_prob` for keep probability for dropout\n",
    "\n",
    "This function will be called for each batch, so `tf.global_variables_initializer()` has already been called.\n",
    "\n",
    "Note: Nothing needs to be returned. This function is only optimizing the neural network."
   ]
  },
  {
   "cell_type": "code",
   "execution_count": 9,
   "metadata": {},
   "outputs": [
    {
     "name": "stdout",
     "output_type": "stream",
     "text": [
      "Tests Passed\n"
     ]
    }
   ],
   "source": [
    "def train_neural_network(session, optimizer, keep_probability, feature_batch, label_batch):\n",
    "    \"\"\"\n",
    "    Optimize the session on a batch of images and labels\n",
    "    : session: Current TensorFlow session\n",
    "    : optimizer: TensorFlow optimizer function\n",
    "    : keep_probability: keep probability\n",
    "    : feature_batch: Batch of Numpy image data\n",
    "    : label_batch: Batch of Numpy label data\n",
    "    \"\"\"\n",
    "    # TODO: Implement Function\n",
    "    session.run(optimizer, feed_dict={\n",
    "                x: feature_batch,\n",
    "                y: label_batch,\n",
    "                keep_prob: keep_probability})\n",
    "\n",
    "\n",
    "\"\"\"\n",
    "DON'T MODIFY ANYTHING IN THIS CELL THAT IS BELOW THIS LINE\n",
    "\"\"\"\n",
    "tests.test_train_nn(train_neural_network)"
   ]
  },
  {
   "cell_type": "markdown",
   "metadata": {},
   "source": [
    "### Show Stats\n",
    "Implement the function `print_stats` to print loss and validation accuracy.  Use the global variables `valid_features` and `valid_labels` to calculate validation accuracy.  Use a keep probability of `1.0` to calculate the loss and validation accuracy."
   ]
  },
  {
   "cell_type": "code",
   "execution_count": 10,
   "metadata": {
    "collapsed": true
   },
   "outputs": [],
   "source": [
    "def print_stats(session, feature_batch, label_batch, cost, accuracy):\n",
    "    \"\"\"\n",
    "    Print information about loss and validation accuracy\n",
    "    : session: Current TensorFlow session\n",
    "    : feature_batch: Batch of Numpy image data\n",
    "    : label_batch: Batch of Numpy label data\n",
    "    : cost: TensorFlow cost function\n",
    "    : accuracy: TensorFlow accuracy function\n",
    "    \"\"\"\n",
    "    loss = session.run(cost, feed_dict={\n",
    "                x: feature_batch,\n",
    "                y: label_batch,\n",
    "                keep_prob: 1.})\n",
    "    valid_acc = session.run(accuracy, feed_dict={\n",
    "        x: valid_features,\n",
    "        y: valid_labels,\n",
    "        keep_prob: 1.})\n",
    "    print('Loss: {:>10.4f} Validation Accuracy: {:.6f}'.format(\n",
    "                loss,\n",
    "                valid_acc))"
   ]
  },
  {
   "cell_type": "markdown",
   "metadata": {},
   "source": [
    "### Hyperparameters\n",
    "Tune the following parameters:\n",
    "* Set `epochs` to the number of iterations until the network stops learning or start overfitting\n",
    "* Set `batch_size` to the highest number that your machine has memory for.  Most people set them to common sizes of memory:\n",
    " * 64\n",
    " * 128\n",
    " * 256\n",
    " * ...\n",
    "* Set `keep_probability` to the probability of keeping a node using dropout"
   ]
  },
  {
   "cell_type": "code",
   "execution_count": 22,
   "metadata": {
    "collapsed": true
   },
   "outputs": [],
   "source": [
    "# TODO: Tune Parameters\n",
    "epochs = 25\n",
    "batch_size = 512\n",
    "keep_probability = 0.75"
   ]
  },
  {
   "cell_type": "markdown",
   "metadata": {},
   "source": [
    "### Train on a Single CIFAR-10 Batch\n",
    "Instead of training the neural network on all the CIFAR-10 batches of data, let's use a single batch. This should save time while you iterate on the model to get a better accuracy.  Once the final validation accuracy is 50% or greater, run the model on all the data in the next section."
   ]
  },
  {
   "cell_type": "code",
   "execution_count": 23,
   "metadata": {},
   "outputs": [
    {
     "name": "stdout",
     "output_type": "stream",
     "text": [
      "Checking the Training on a Single Batch...\n",
      "Epoch  1, CIFAR-10 Batch 1:  Loss:     2.2808 Validation Accuracy: 0.193000\n",
      "Epoch  2, CIFAR-10 Batch 1:  Loss:     2.0763 Validation Accuracy: 0.274800\n",
      "Epoch  3, CIFAR-10 Batch 1:  Loss:     1.8372 Validation Accuracy: 0.372800\n",
      "Epoch  4, CIFAR-10 Batch 1:  Loss:     1.6870 Validation Accuracy: 0.408000\n",
      "Epoch  5, CIFAR-10 Batch 1:  Loss:     1.5780 Validation Accuracy: 0.435200\n",
      "Epoch  6, CIFAR-10 Batch 1:  Loss:     1.4476 Validation Accuracy: 0.470800\n",
      "Epoch  7, CIFAR-10 Batch 1:  Loss:     1.3577 Validation Accuracy: 0.488400\n",
      "Epoch  8, CIFAR-10 Batch 1:  Loss:     1.2881 Validation Accuracy: 0.495800\n",
      "Epoch  9, CIFAR-10 Batch 1:  Loss:     1.2175 Validation Accuracy: 0.507800\n",
      "Epoch 10, CIFAR-10 Batch 1:  Loss:     1.1558 Validation Accuracy: 0.511200\n",
      "Epoch 11, CIFAR-10 Batch 1:  Loss:     1.0769 Validation Accuracy: 0.532600\n",
      "Epoch 12, CIFAR-10 Batch 1:  Loss:     1.0119 Validation Accuracy: 0.540200\n",
      "Epoch 13, CIFAR-10 Batch 1:  Loss:     0.9518 Validation Accuracy: 0.555600\n",
      "Epoch 14, CIFAR-10 Batch 1:  Loss:     0.8967 Validation Accuracy: 0.559400\n",
      "Epoch 15, CIFAR-10 Batch 1:  Loss:     0.8542 Validation Accuracy: 0.562200\n",
      "Epoch 16, CIFAR-10 Batch 1:  Loss:     0.8451 Validation Accuracy: 0.550400\n",
      "Epoch 17, CIFAR-10 Batch 1:  Loss:     0.7650 Validation Accuracy: 0.572000\n",
      "Epoch 18, CIFAR-10 Batch 1:  Loss:     0.6900 Validation Accuracy: 0.586600\n",
      "Epoch 19, CIFAR-10 Batch 1:  Loss:     0.6313 Validation Accuracy: 0.588400\n",
      "Epoch 20, CIFAR-10 Batch 1:  Loss:     0.6119 Validation Accuracy: 0.580200\n",
      "Epoch 21, CIFAR-10 Batch 1:  Loss:     0.6224 Validation Accuracy: 0.562200\n",
      "Epoch 22, CIFAR-10 Batch 1:  Loss:     0.5503 Validation Accuracy: 0.576000\n",
      "Epoch 23, CIFAR-10 Batch 1:  Loss:     0.4715 Validation Accuracy: 0.591600\n",
      "Epoch 24, CIFAR-10 Batch 1:  Loss:     0.4388 Validation Accuracy: 0.592400\n",
      "Epoch 25, CIFAR-10 Batch 1:  Loss:     0.4452 Validation Accuracy: 0.575400\n"
     ]
    }
   ],
   "source": [
    "\"\"\"\n",
    "DON'T MODIFY ANYTHING IN THIS CELL\n",
    "\"\"\"\n",
    "print('Checking the Training on a Single Batch...')\n",
    "with tf.Session() as sess:\n",
    "    # Initializing the variables\n",
    "    sess.run(tf.global_variables_initializer())\n",
    "    \n",
    "    # Training cycle\n",
    "    for epoch in range(epochs):\n",
    "        batch_i = 1\n",
    "        for batch_features, batch_labels in helper.load_preprocess_training_batch(batch_i, batch_size):\n",
    "            train_neural_network(sess, optimizer, keep_probability, batch_features, batch_labels)\n",
    "        print('Epoch {:>2}, CIFAR-10 Batch {}:  '.format(epoch + 1, batch_i), end='')\n",
    "        print_stats(sess, batch_features, batch_labels, cost, accuracy)"
   ]
  },
  {
   "cell_type": "markdown",
   "metadata": {},
   "source": [
    "### Fully Train the Model\n",
    "Now that you got a good accuracy with a single CIFAR-10 batch, try it with all five batches."
   ]
  },
  {
   "cell_type": "code",
   "execution_count": 25,
   "metadata": {},
   "outputs": [
    {
     "name": "stdout",
     "output_type": "stream",
     "text": [
      "Training...\n",
      "Epoch  1, CIFAR-10 Batch 1:  Loss:     2.2065 Validation Accuracy: 0.201400\n",
      "Epoch  1, CIFAR-10 Batch 2:  Loss:     1.7920 Validation Accuracy: 0.346000\n",
      "Epoch  1, CIFAR-10 Batch 3:  Loss:     1.5039 Validation Accuracy: 0.415600\n",
      "Epoch  1, CIFAR-10 Batch 4:  Loss:     1.4609 Validation Accuracy: 0.443000\n",
      "Epoch  1, CIFAR-10 Batch 5:  Loss:     1.4246 Validation Accuracy: 0.469200\n",
      "Epoch  2, CIFAR-10 Batch 1:  Loss:     1.4557 Validation Accuracy: 0.505800\n",
      "Epoch  2, CIFAR-10 Batch 2:  Loss:     1.2455 Validation Accuracy: 0.537600\n",
      "Epoch  2, CIFAR-10 Batch 3:  Loss:     1.1714 Validation Accuracy: 0.536200\n",
      "Epoch  2, CIFAR-10 Batch 4:  Loss:     1.1668 Validation Accuracy: 0.561400\n",
      "Epoch  2, CIFAR-10 Batch 5:  Loss:     1.2222 Validation Accuracy: 0.537400\n",
      "Epoch  3, CIFAR-10 Batch 1:  Loss:     1.2376 Validation Accuracy: 0.565800\n",
      "Epoch  3, CIFAR-10 Batch 2:  Loss:     1.0656 Validation Accuracy: 0.578000\n",
      "Epoch  3, CIFAR-10 Batch 3:  Loss:     1.0159 Validation Accuracy: 0.584000\n",
      "Epoch  3, CIFAR-10 Batch 4:  Loss:     1.0302 Validation Accuracy: 0.595200\n",
      "Epoch  3, CIFAR-10 Batch 5:  Loss:     1.0556 Validation Accuracy: 0.599000\n",
      "Epoch  4, CIFAR-10 Batch 1:  Loss:     1.0938 Validation Accuracy: 0.614600\n",
      "Epoch  4, CIFAR-10 Batch 2:  Loss:     0.9177 Validation Accuracy: 0.632400\n",
      "Epoch  4, CIFAR-10 Batch 3:  Loss:     0.9211 Validation Accuracy: 0.607800\n",
      "Epoch  4, CIFAR-10 Batch 4:  Loss:     0.9388 Validation Accuracy: 0.619000\n",
      "Epoch  4, CIFAR-10 Batch 5:  Loss:     0.9388 Validation Accuracy: 0.622000\n",
      "Epoch  5, CIFAR-10 Batch 1:  Loss:     0.9887 Validation Accuracy: 0.637200\n",
      "Epoch  5, CIFAR-10 Batch 2:  Loss:     0.8459 Validation Accuracy: 0.650600\n",
      "Epoch  5, CIFAR-10 Batch 3:  Loss:     0.8582 Validation Accuracy: 0.620600\n",
      "Epoch  5, CIFAR-10 Batch 4:  Loss:     0.8189 Validation Accuracy: 0.646400\n",
      "Epoch  5, CIFAR-10 Batch 5:  Loss:     0.8228 Validation Accuracy: 0.657800\n",
      "Epoch  6, CIFAR-10 Batch 1:  Loss:     0.8926 Validation Accuracy: 0.654000\n",
      "Epoch  6, CIFAR-10 Batch 2:  Loss:     0.8033 Validation Accuracy: 0.640600\n",
      "Epoch  6, CIFAR-10 Batch 3:  Loss:     0.7554 Validation Accuracy: 0.643200\n",
      "Epoch  6, CIFAR-10 Batch 4:  Loss:     0.7354 Validation Accuracy: 0.666000\n",
      "Epoch  6, CIFAR-10 Batch 5:  Loss:     0.7504 Validation Accuracy: 0.666000\n",
      "Epoch  7, CIFAR-10 Batch 1:  Loss:     0.8015 Validation Accuracy: 0.668800\n",
      "Epoch  7, CIFAR-10 Batch 2:  Loss:     0.7220 Validation Accuracy: 0.658400\n",
      "Epoch  7, CIFAR-10 Batch 3:  Loss:     0.6807 Validation Accuracy: 0.653600\n",
      "Epoch  7, CIFAR-10 Batch 4:  Loss:     0.6877 Validation Accuracy: 0.674400\n",
      "Epoch  7, CIFAR-10 Batch 5:  Loss:     0.6663 Validation Accuracy: 0.675800\n",
      "Epoch  8, CIFAR-10 Batch 1:  Loss:     0.7547 Validation Accuracy: 0.668200\n",
      "Epoch  8, CIFAR-10 Batch 2:  Loss:     0.6494 Validation Accuracy: 0.665000\n",
      "Epoch  8, CIFAR-10 Batch 3:  Loss:     0.6095 Validation Accuracy: 0.662000\n",
      "Epoch  8, CIFAR-10 Batch 4:  Loss:     0.6086 Validation Accuracy: 0.681600\n",
      "Epoch  8, CIFAR-10 Batch 5:  Loss:     0.6091 Validation Accuracy: 0.676000\n",
      "Epoch  9, CIFAR-10 Batch 1:  Loss:     0.6571 Validation Accuracy: 0.686800\n",
      "Epoch  9, CIFAR-10 Batch 2:  Loss:     0.6147 Validation Accuracy: 0.668600\n",
      "Epoch  9, CIFAR-10 Batch 3:  Loss:     0.5762 Validation Accuracy: 0.658600\n",
      "Epoch  9, CIFAR-10 Batch 4:  Loss:     0.5633 Validation Accuracy: 0.674800\n",
      "Epoch  9, CIFAR-10 Batch 5:  Loss:     0.5422 Validation Accuracy: 0.680200\n",
      "Epoch 10, CIFAR-10 Batch 1:  Loss:     0.5866 Validation Accuracy: 0.690400\n",
      "Epoch 10, CIFAR-10 Batch 2:  Loss:     0.5611 Validation Accuracy: 0.676000\n",
      "Epoch 10, CIFAR-10 Batch 3:  Loss:     0.5179 Validation Accuracy: 0.668600\n",
      "Epoch 10, CIFAR-10 Batch 4:  Loss:     0.5126 Validation Accuracy: 0.681400\n",
      "Epoch 10, CIFAR-10 Batch 5:  Loss:     0.4804 Validation Accuracy: 0.687000\n",
      "Epoch 11, CIFAR-10 Batch 1:  Loss:     0.5332 Validation Accuracy: 0.692000\n",
      "Epoch 11, CIFAR-10 Batch 2:  Loss:     0.4823 Validation Accuracy: 0.687200\n",
      "Epoch 11, CIFAR-10 Batch 3:  Loss:     0.4764 Validation Accuracy: 0.672800\n",
      "Epoch 11, CIFAR-10 Batch 4:  Loss:     0.5062 Validation Accuracy: 0.665600\n",
      "Epoch 11, CIFAR-10 Batch 5:  Loss:     0.5184 Validation Accuracy: 0.662600\n",
      "Epoch 12, CIFAR-10 Batch 1:  Loss:     0.5620 Validation Accuracy: 0.667400\n",
      "Epoch 12, CIFAR-10 Batch 2:  Loss:     0.4898 Validation Accuracy: 0.666200\n",
      "Epoch 12, CIFAR-10 Batch 3:  Loss:     0.4439 Validation Accuracy: 0.675800\n",
      "Epoch 12, CIFAR-10 Batch 4:  Loss:     0.4856 Validation Accuracy: 0.656400\n",
      "Epoch 12, CIFAR-10 Batch 5:  Loss:     0.4200 Validation Accuracy: 0.686200\n",
      "Epoch 13, CIFAR-10 Batch 1:  Loss:     0.4927 Validation Accuracy: 0.675400\n",
      "Epoch 13, CIFAR-10 Batch 2:  Loss:     0.4372 Validation Accuracy: 0.671200\n",
      "Epoch 13, CIFAR-10 Batch 3:  Loss:     0.4046 Validation Accuracy: 0.682400\n",
      "Epoch 13, CIFAR-10 Batch 4:  Loss:     0.4262 Validation Accuracy: 0.662800\n",
      "Epoch 13, CIFAR-10 Batch 5:  Loss:     0.3444 Validation Accuracy: 0.693000\n",
      "Epoch 14, CIFAR-10 Batch 1:  Loss:     0.4455 Validation Accuracy: 0.680800\n",
      "Epoch 14, CIFAR-10 Batch 2:  Loss:     0.3810 Validation Accuracy: 0.672600\n",
      "Epoch 14, CIFAR-10 Batch 3:  Loss:     0.3657 Validation Accuracy: 0.677400\n",
      "Epoch 14, CIFAR-10 Batch 4:  Loss:     0.3481 Validation Accuracy: 0.680600\n",
      "Epoch 14, CIFAR-10 Batch 5:  Loss:     0.3002 Validation Accuracy: 0.693400\n",
      "Epoch 15, CIFAR-10 Batch 1:  Loss:     0.3711 Validation Accuracy: 0.689000\n",
      "Epoch 15, CIFAR-10 Batch 2:  Loss:     0.3230 Validation Accuracy: 0.672000\n",
      "Epoch 15, CIFAR-10 Batch 3:  Loss:     0.3258 Validation Accuracy: 0.678800\n",
      "Epoch 15, CIFAR-10 Batch 4:  Loss:     0.3563 Validation Accuracy: 0.666800\n",
      "Epoch 15, CIFAR-10 Batch 5:  Loss:     0.2951 Validation Accuracy: 0.686400\n",
      "Epoch 16, CIFAR-10 Batch 1:  Loss:     0.3401 Validation Accuracy: 0.692200\n",
      "Epoch 16, CIFAR-10 Batch 2:  Loss:     0.2949 Validation Accuracy: 0.663600\n",
      "Epoch 16, CIFAR-10 Batch 3:  Loss:     0.3440 Validation Accuracy: 0.667000\n",
      "Epoch 16, CIFAR-10 Batch 4:  Loss:     0.3240 Validation Accuracy: 0.667800\n",
      "Epoch 16, CIFAR-10 Batch 5:  Loss:     0.2782 Validation Accuracy: 0.685800\n",
      "Epoch 17, CIFAR-10 Batch 1:  Loss:     0.3105 Validation Accuracy: 0.695200\n",
      "Epoch 17, CIFAR-10 Batch 2:  Loss:     0.3028 Validation Accuracy: 0.662400\n",
      "Epoch 17, CIFAR-10 Batch 3:  Loss:     0.3312 Validation Accuracy: 0.665600\n",
      "Epoch 17, CIFAR-10 Batch 4:  Loss:     0.2799 Validation Accuracy: 0.673600\n",
      "Epoch 17, CIFAR-10 Batch 5:  Loss:     0.2884 Validation Accuracy: 0.678800\n",
      "Epoch 18, CIFAR-10 Batch 1:  Loss:     0.3405 Validation Accuracy: 0.663400\n",
      "Epoch 18, CIFAR-10 Batch 2:  Loss:     0.3101 Validation Accuracy: 0.677200\n",
      "Epoch 18, CIFAR-10 Batch 3:  Loss:     0.3013 Validation Accuracy: 0.662800\n",
      "Epoch 18, CIFAR-10 Batch 4:  Loss:     0.2798 Validation Accuracy: 0.668800\n",
      "Epoch 18, CIFAR-10 Batch 5:  Loss:     0.2441 Validation Accuracy: 0.680000\n",
      "Epoch 19, CIFAR-10 Batch 1:  Loss:     0.3146 Validation Accuracy: 0.673600\n",
      "Epoch 19, CIFAR-10 Batch 2:  Loss:     0.3090 Validation Accuracy: 0.672600\n",
      "Epoch 19, CIFAR-10 Batch 3:  Loss:     0.3223 Validation Accuracy: 0.661200\n",
      "Epoch 19, CIFAR-10 Batch 4:  Loss:     0.2639 Validation Accuracy: 0.660200\n",
      "Epoch 19, CIFAR-10 Batch 5:  Loss:     0.2663 Validation Accuracy: 0.672400\n",
      "Epoch 20, CIFAR-10 Batch 1:  Loss:     0.3095 Validation Accuracy: 0.659800\n",
      "Epoch 20, CIFAR-10 Batch 2:  Loss:     0.2930 Validation Accuracy: 0.664200\n",
      "Epoch 20, CIFAR-10 Batch 3:  Loss:     0.3325 Validation Accuracy: 0.653600\n",
      "Epoch 20, CIFAR-10 Batch 4:  Loss:     0.2517 Validation Accuracy: 0.652600\n",
      "Epoch 20, CIFAR-10 Batch 5:  Loss:     0.2871 Validation Accuracy: 0.670200\n",
      "Epoch 21, CIFAR-10 Batch 1:  Loss:     0.2715 Validation Accuracy: 0.657200\n",
      "Epoch 21, CIFAR-10 Batch 2:  Loss:     0.2334 Validation Accuracy: 0.674600\n",
      "Epoch 21, CIFAR-10 Batch 3:  Loss:     0.2707 Validation Accuracy: 0.670600\n",
      "Epoch 21, CIFAR-10 Batch 4:  Loss:     0.2217 Validation Accuracy: 0.653200\n",
      "Epoch 21, CIFAR-10 Batch 5:  Loss:     0.2262 Validation Accuracy: 0.679800\n",
      "Epoch 22, CIFAR-10 Batch 1:  Loss:     0.3141 Validation Accuracy: 0.640200\n",
      "Epoch 22, CIFAR-10 Batch 2:  Loss:     0.2717 Validation Accuracy: 0.670200\n",
      "Epoch 22, CIFAR-10 Batch 3:  Loss:     0.2327 Validation Accuracy: 0.671600\n"
     ]
    },
    {
     "name": "stdout",
     "output_type": "stream",
     "text": [
      "Epoch 22, CIFAR-10 Batch 4:  Loss:     0.1685 Validation Accuracy: 0.670800\n",
      "Epoch 22, CIFAR-10 Batch 5:  Loss:     0.1800 Validation Accuracy: 0.688000\n",
      "Epoch 23, CIFAR-10 Batch 1:  Loss:     0.2593 Validation Accuracy: 0.650000\n",
      "Epoch 23, CIFAR-10 Batch 2:  Loss:     0.2610 Validation Accuracy: 0.670000\n",
      "Epoch 23, CIFAR-10 Batch 3:  Loss:     0.2493 Validation Accuracy: 0.660400\n",
      "Epoch 23, CIFAR-10 Batch 4:  Loss:     0.1666 Validation Accuracy: 0.669200\n",
      "Epoch 23, CIFAR-10 Batch 5:  Loss:     0.1573 Validation Accuracy: 0.683600\n",
      "Epoch 24, CIFAR-10 Batch 1:  Loss:     0.1909 Validation Accuracy: 0.674000\n",
      "Epoch 24, CIFAR-10 Batch 2:  Loss:     0.2552 Validation Accuracy: 0.660600\n",
      "Epoch 24, CIFAR-10 Batch 3:  Loss:     0.2427 Validation Accuracy: 0.642200\n",
      "Epoch 24, CIFAR-10 Batch 4:  Loss:     0.2003 Validation Accuracy: 0.656600\n",
      "Epoch 24, CIFAR-10 Batch 5:  Loss:     0.1279 Validation Accuracy: 0.685000\n",
      "Epoch 25, CIFAR-10 Batch 1:  Loss:     0.1573 Validation Accuracy: 0.688400\n",
      "Epoch 25, CIFAR-10 Batch 2:  Loss:     0.2186 Validation Accuracy: 0.656200\n",
      "Epoch 25, CIFAR-10 Batch 3:  Loss:     0.1547 Validation Accuracy: 0.680400\n",
      "Epoch 25, CIFAR-10 Batch 4:  Loss:     0.1501 Validation Accuracy: 0.669800\n",
      "Epoch 25, CIFAR-10 Batch 5:  Loss:     0.1136 Validation Accuracy: 0.681200\n"
     ]
    }
   ],
   "source": [
    "\"\"\"\n",
    "DON'T MODIFY ANYTHING IN THIS CELL\n",
    "\"\"\"\n",
    "save_model_path = './image_classification'\n",
    "\n",
    "print('Training...')\n",
    "with tf.Session() as sess:\n",
    "    # Initializing the variables\n",
    "    sess.run(tf.global_variables_initializer())\n",
    "    \n",
    "    # Training cycle\n",
    "    for epoch in range(epochs):\n",
    "        # Loop over all batches\n",
    "        n_batches = 5\n",
    "        for batch_i in range(1, n_batches + 1):\n",
    "            for batch_features, batch_labels in helper.load_preprocess_training_batch(batch_i, batch_size):\n",
    "                train_neural_network(sess, optimizer, keep_probability, batch_features, batch_labels)\n",
    "            print('Epoch {:>2}, CIFAR-10 Batch {}:  '.format(epoch + 1, batch_i), end='')\n",
    "            print_stats(sess, batch_features, batch_labels, cost, accuracy)\n",
    "            \n",
    "    # Save Model\n",
    "    saver = tf.train.Saver()\n",
    "    save_path = saver.save(sess, save_model_path)"
   ]
  },
  {
   "cell_type": "markdown",
   "metadata": {},
   "source": [
    "# Checkpoint\n",
    "The model has been saved to disk.\n",
    "## Test Model\n",
    "Test your model against the test dataset.  This will be your final accuracy. You should have an accuracy greater than 50%. If you don't, keep tweaking the model architecture and parameters."
   ]
  },
  {
   "cell_type": "code",
   "execution_count": 26,
   "metadata": {},
   "outputs": [
    {
     "name": "stdout",
     "output_type": "stream",
     "text": [
      "INFO:tensorflow:Restoring parameters from ./image_classification\n",
      "Testing Accuracy: 0.6750459551811219\n",
      "\n"
     ]
    },
    {
     "data": {
      "image/png": "[encoded data removed]",
      "text/plain": [
       "<matplotlib.figure.Figure at 0x130ea5be0>"
      ]
     },
     "metadata": {
      "image/png": {
       "height": 319,
       "width": 355
      }
     },
     "output_type": "display_data"
    }
   ],
   "source": [
    "\"\"\"\n",
    "DON'T MODIFY ANYTHING IN THIS CELL\n",
    "\"\"\"\n",
    "%matplotlib inline\n",
    "%config InlineBackend.figure_format = 'retina'\n",
    "\n",
    "import tensorflow as tf\n",
    "import pickle\n",
    "import helper\n",
    "import random\n",
    "\n",
    "# Set batch size if not already set\n",
    "try:\n",
    "    if batch_size:\n",
    "        pass\n",
    "except NameError:\n",
    "    batch_size = 64\n",
    "\n",
    "save_model_path = './image_classification'\n",
    "n_samples = 4\n",
    "top_n_predictions = 3\n",
    "\n",
    "def test_model():\n",
    "    \"\"\"\n",
    "    Test the saved model against the test dataset\n",
    "    \"\"\"\n",
    "\n",
    "    test_features, test_labels = pickle.load(open('preprocess_test.p', mode='rb'))\n",
    "    loaded_graph = tf.Graph()\n",
    "\n",
    "    with tf.Session(graph=loaded_graph) as sess:\n",
    "        # Load model\n",
    "        loader = tf.train.import_meta_graph(save_model_path + '.meta')\n",
    "        loader.restore(sess, save_model_path)\n",
    "\n",
    "        # Get Tensors from loaded model\n",
    "        loaded_x = loaded_graph.get_tensor_by_name('x:0')\n",
    "        loaded_y = loaded_graph.get_tensor_by_name('y:0')\n",
    "        loaded_keep_prob = loaded_graph.get_tensor_by_name('keep_prob:0')\n",
    "        loaded_logits = loaded_graph.get_tensor_by_name('logits:0')\n",
    "        loaded_acc = loaded_graph.get_tensor_by_name('accuracy:0')\n",
    "        \n",
    "        # Get accuracy in batches for memory limitations\n",
    "        test_batch_acc_total = 0\n",
    "        test_batch_count = 0\n",
    "        \n",
    "        for test_feature_batch, test_label_batch in helper.batch_features_labels(test_features, test_labels, batch_size):\n",
    "            test_batch_acc_total += sess.run(\n",
    "                loaded_acc,\n",
    "                feed_dict={loaded_x: test_feature_batch, loaded_y: test_label_batch, loaded_keep_prob: 1.0})\n",
    "            test_batch_count += 1\n",
    "\n",
    "        print('Testing Accuracy: {}\\n'.format(test_batch_acc_total/test_batch_count))\n",
    "\n",
    "        # Print Random Samples\n",
    "        random_test_features, random_test_labels = tuple(zip(*random.sample(list(zip(test_features, test_labels)), n_samples)))\n",
    "        random_test_predictions = sess.run(\n",
    "            tf.nn.top_k(tf.nn.softmax(loaded_logits), top_n_predictions),\n",
    "            feed_dict={loaded_x: random_test_features, loaded_y: random_test_labels, loaded_keep_prob: 1.0})\n",
    "        helper.display_image_predictions(random_test_features, random_test_labels, random_test_predictions)\n",
    "\n",
    "\n",
    "test_model()"
   ]
  },
  {
   "cell_type": "markdown",
   "metadata": {},
   "source": [
    "## Why 50-80% Accuracy?\n",
    "You might be wondering why you can't get an accuracy any higher. First things first, 50% isn't bad for a simple CNN.  Pure guessing would get you 10% accuracy. However, you might notice people are getting scores [well above 80%](http://rodrigob.github.io/are_we_there_yet/build/classification_datasets_results.html#43494641522d3130).  That's because we haven't taught you all there is to know about neural networks. We still need to cover a few more techniques.\n",
    "## Submitting This Project\n",
    "When submitting this project, make sure to run all the cells before saving the notebook.  Save the notebook file as \"dlnd_image_classification.ipynb\" and save it as a HTML file under \"File\" -> \"Download as\".  Include the \"helper.py\" and \"problem_unittests.py\" files in your submission."
   ]
  }
 ],
 "metadata": {
  "kernelspec": {
   "display_name": "Python [conda env:dlnd]",
   "language": "python",
   "name": "conda-env-dlnd-py"
  },
  "language_info": {
   "codemirror_mode": {
    "name": "ipython",
    "version": 3
   },
   "file_extension": ".py",
   "mimetype": "text/x-python",
   "name": "python",
   "nbconvert_exporter": "python",
   "pygments_lexer": "ipython3",
   "version": "3.6.2"
  }
 },
 "nbformat": 4,
 "nbformat_minor": 1
}
